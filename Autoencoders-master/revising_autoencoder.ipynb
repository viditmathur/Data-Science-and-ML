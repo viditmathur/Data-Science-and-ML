{
 "cells": [
  {
   "cell_type": "code",
   "execution_count": 1,
   "metadata": {},
   "outputs": [],
   "source": [
    "import numpy as np\n",
    "import pandas as pd\n",
    "import matplotlib.pyplot as plt\n",
    "%matplotlib inline\n",
    "import seaborn as sns\n",
    "\n",
    "import keras\n",
    "from keras.layers import Dense,Activation,Input\n",
    "from keras.models import Model"
   ]
  },
  {
   "cell_type": "code",
   "execution_count": 5,
   "metadata": {},
   "outputs": [
    {
     "name": "stdout",
     "output_type": "stream",
     "text": [
      "(5000, 784)\n"
     ]
    }
   ],
   "source": [
    "ds = pd.read_csv(\"C:/Users/chira/Desktop/machine_learning/new_data/mnist/train.csv\")\n",
    "data = ds.values[:5000,1:]/255.0\n",
    "print(data.shape)"
   ]
  },
  {
   "cell_type": "code",
   "execution_count": 14,
   "metadata": {},
   "outputs": [
    {
     "name": "stdout",
     "output_type": "stream",
     "text": [
      "_________________________________________________________________\n",
      "Layer (type)                 Output Shape              Param #   \n",
      "=================================================================\n",
      "input_7 (InputLayer)         (None, 784)               0         \n",
      "_________________________________________________________________\n",
      "dense_14 (Dense)             (None, 100)               78500     \n",
      "_________________________________________________________________\n",
      "activation_11 (Activation)   (None, 100)               0         \n",
      "_________________________________________________________________\n",
      "dense_15 (Dense)             (None, 784)               79184     \n",
      "_________________________________________________________________\n",
      "activation_12 (Activation)   (None, 784)               0         \n",
      "=================================================================\n",
      "Total params: 157,684\n",
      "Trainable params: 157,684\n",
      "Non-trainable params: 0\n",
      "_________________________________________________________________\n",
      "_________________________________________________________________\n",
      "Layer (type)                 Output Shape              Param #   \n",
      "=================================================================\n",
      "input_7 (InputLayer)         (None, 784)               0         \n",
      "_________________________________________________________________\n",
      "dense_14 (Dense)             (None, 100)               78500     \n",
      "_________________________________________________________________\n",
      "activation_11 (Activation)   (None, 100)               0         \n",
      "=================================================================\n",
      "Total params: 78,500\n",
      "Trainable params: 78,500\n",
      "Non-trainable params: 0\n",
      "_________________________________________________________________\n",
      "_________________________________________________________________\n",
      "Layer (type)                 Output Shape              Param #   \n",
      "=================================================================\n",
      "input_8 (InputLayer)         (None, 100)               0         \n",
      "_________________________________________________________________\n",
      "dense_15 (Dense)             (None, 784)               79184     \n",
      "_________________________________________________________________\n",
      "activation_12 (Activation)   (None, 784)               0         \n",
      "=================================================================\n",
      "Total params: 79,184\n",
      "Trainable params: 79,184\n",
      "Non-trainable params: 0\n",
      "_________________________________________________________________\n"
     ]
    }
   ],
   "source": [
    "#Defining the layers\n",
    "inp = Input(shape=(784,))\n",
    "h1 = Dense(100)\n",
    "a1 = Activation('sigmoid')\n",
    "y = Dense(784,)\n",
    "ya = Activation('sigmoid')\n",
    "\n",
    "#connecting the layers\n",
    "out = ya(y(a1(h1(inp))))\n",
    "\n",
    "#creating autoencoder model\n",
    "model = Model(inputs=[inp],outputs = [out])\n",
    "model.summary()\n",
    "model.compile(loss='mse',optimizer='adam',metrics=['accuracy'])\n",
    "\n",
    "# creating encoder model\n",
    "encoder = Model(inputs=[inp],outputs=[a1(h1(inp))])\n",
    "encoder.summary()\n",
    "\n",
    "\n",
    "# creating decoder model\n",
    "dec_inp = Input(shape=(100,))\n",
    "decoder = Model(inputs=[dec_inp],outputs = [ya(y(dec_inp))])\n",
    "decoder.summary()"
   ]
  },
  {
   "cell_type": "code",
   "execution_count": 15,
   "metadata": {
    "scrolled": false
   },
   "outputs": [
    {
     "name": "stdout",
     "output_type": "stream",
     "text": [
      "Train on 4500 samples, validate on 500 samples\n",
      "Epoch 1/100\n",
      "4500/4500 [==============================] - 1s 116us/step - loss: 0.1125 - acc: 0.0084 - val_loss: 0.0691 - val_acc: 0.0040\n",
      "Epoch 2/100\n",
      "4500/4500 [==============================] - 0s 63us/step - loss: 0.0691 - acc: 0.0120 - val_loss: 0.0673 - val_acc: 0.0160\n",
      "Epoch 3/100\n",
      "4500/4500 [==============================] - 0s 58us/step - loss: 0.0676 - acc: 0.0136 - val_loss: 0.0656 - val_acc: 0.0040\n",
      "Epoch 4/100\n",
      "4500/4500 [==============================] - 0s 61us/step - loss: 0.0655 - acc: 0.0133 - val_loss: 0.0633 - val_acc: 0.0040\n",
      "Epoch 5/100\n",
      "4500/4500 [==============================] - 0s 60us/step - loss: 0.0629 - acc: 0.0133 - val_loss: 0.0608 - val_acc: 0.0040\n",
      "Epoch 6/100\n",
      "4500/4500 [==============================] - 0s 62us/step - loss: 0.0603 - acc: 0.0156 - val_loss: 0.0583 - val_acc: 0.0080\n",
      "Epoch 7/100\n",
      "4500/4500 [==============================] - 0s 61us/step - loss: 0.0577 - acc: 0.0167 - val_loss: 0.0558 - val_acc: 0.0120\n",
      "Epoch 8/100\n",
      "4500/4500 [==============================] - 0s 60us/step - loss: 0.0551 - acc: 0.0207 - val_loss: 0.0534 - val_acc: 0.0080\n",
      "Epoch 9/100\n",
      "4500/4500 [==============================] - 0s 63us/step - loss: 0.0526 - acc: 0.0171 - val_loss: 0.0510 - val_acc: 0.0100\n",
      "Epoch 10/100\n",
      "4500/4500 [==============================] - 0s 62us/step - loss: 0.0503 - acc: 0.0173 - val_loss: 0.0489 - val_acc: 0.0080\n",
      "Epoch 11/100\n",
      "4500/4500 [==============================] - 0s 61us/step - loss: 0.0482 - acc: 0.0167 - val_loss: 0.0470 - val_acc: 0.0100\n",
      "Epoch 12/100\n",
      "4500/4500 [==============================] - 0s 65us/step - loss: 0.0463 - acc: 0.0133 - val_loss: 0.0452 - val_acc: 0.0120\n",
      "Epoch 13/100\n",
      "4500/4500 [==============================] - 0s 59us/step - loss: 0.0445 - acc: 0.0156 - val_loss: 0.0436 - val_acc: 0.0120\n",
      "Epoch 14/100\n",
      "4500/4500 [==============================] - 0s 61us/step - loss: 0.0429 - acc: 0.0147 - val_loss: 0.0420 - val_acc: 0.0100\n",
      "Epoch 15/100\n",
      "4500/4500 [==============================] - 0s 64us/step - loss: 0.0414 - acc: 0.0124 - val_loss: 0.0406 - val_acc: 0.0120\n",
      "Epoch 16/100\n",
      "4500/4500 [==============================] - 0s 59us/step - loss: 0.0399 - acc: 0.0120 - val_loss: 0.0392 - val_acc: 0.0100\n",
      "Epoch 17/100\n",
      "4500/4500 [==============================] - 0s 61us/step - loss: 0.0386 - acc: 0.0113 - val_loss: 0.0378 - val_acc: 0.0140\n",
      "Epoch 18/100\n",
      "4500/4500 [==============================] - 0s 59us/step - loss: 0.0373 - acc: 0.0127 - val_loss: 0.0366 - val_acc: 0.0120\n",
      "Epoch 19/100\n",
      "4500/4500 [==============================] - 0s 63us/step - loss: 0.0360 - acc: 0.0118 - val_loss: 0.0354 - val_acc: 0.0140\n",
      "Epoch 20/100\n",
      "4500/4500 [==============================] - 0s 63us/step - loss: 0.0348 - acc: 0.0100 - val_loss: 0.0343 - val_acc: 0.0120\n",
      "Epoch 21/100\n",
      "4500/4500 [==============================] - 0s 64us/step - loss: 0.0337 - acc: 0.0118 - val_loss: 0.0333 - val_acc: 0.0140\n",
      "Epoch 22/100\n",
      "4500/4500 [==============================] - 0s 64us/step - loss: 0.0327 - acc: 0.0127 - val_loss: 0.0323 - val_acc: 0.0180\n",
      "Epoch 23/100\n",
      "4500/4500 [==============================] - 0s 60us/step - loss: 0.0317 - acc: 0.0118 - val_loss: 0.0314 - val_acc: 0.0140\n",
      "Epoch 24/100\n",
      "4500/4500 [==============================] - 0s 60us/step - loss: 0.0307 - acc: 0.0113 - val_loss: 0.0305 - val_acc: 0.0200\n",
      "Epoch 25/100\n",
      "4500/4500 [==============================] - 0s 60us/step - loss: 0.0298 - acc: 0.0111 - val_loss: 0.0296 - val_acc: 0.0180\n",
      "Epoch 26/100\n",
      "4500/4500 [==============================] - 0s 62us/step - loss: 0.0290 - acc: 0.0116 - val_loss: 0.0289 - val_acc: 0.0240\n",
      "Epoch 27/100\n",
      "4500/4500 [==============================] - 0s 65us/step - loss: 0.0282 - acc: 0.0113 - val_loss: 0.0282 - val_acc: 0.0200\n",
      "Epoch 28/100\n",
      "4500/4500 [==============================] - 0s 61us/step - loss: 0.0274 - acc: 0.0113 - val_loss: 0.0275 - val_acc: 0.0220\n",
      "Epoch 29/100\n",
      "4500/4500 [==============================] - 0s 60us/step - loss: 0.0267 - acc: 0.0120 - val_loss: 0.0268 - val_acc: 0.0120\n",
      "Epoch 30/100\n",
      "4500/4500 [==============================] - 0s 61us/step - loss: 0.0260 - acc: 0.0111 - val_loss: 0.0262 - val_acc: 0.0140\n",
      "Epoch 31/100\n",
      "4500/4500 [==============================] - 0s 64us/step - loss: 0.0254 - acc: 0.0102 - val_loss: 0.0256 - val_acc: 0.0140\n",
      "Epoch 32/100\n",
      "4500/4500 [==============================] - 0s 65us/step - loss: 0.0248 - acc: 0.0109 - val_loss: 0.0250 - val_acc: 0.0120\n",
      "Epoch 33/100\n",
      "4500/4500 [==============================] - 0s 69us/step - loss: 0.0242 - acc: 0.0109 - val_loss: 0.0245 - val_acc: 0.0120\n",
      "Epoch 34/100\n",
      "4500/4500 [==============================] - 0s 62us/step - loss: 0.0236 - acc: 0.0118 - val_loss: 0.0239 - val_acc: 0.0080\n",
      "Epoch 35/100\n",
      "4500/4500 [==============================] - 0s 64us/step - loss: 0.0230 - acc: 0.0113 - val_loss: 0.0235 - val_acc: 0.0120\n",
      "Epoch 36/100\n",
      "4500/4500 [==============================] - 0s 61us/step - loss: 0.0225 - acc: 0.0120 - val_loss: 0.0230 - val_acc: 0.0140\n",
      "Epoch 37/100\n",
      "4500/4500 [==============================] - 0s 61us/step - loss: 0.0220 - acc: 0.0118 - val_loss: 0.0225 - val_acc: 0.0100\n",
      "Epoch 38/100\n",
      "4500/4500 [==============================] - 0s 62us/step - loss: 0.0215 - acc: 0.0118 - val_loss: 0.0221 - val_acc: 0.0080\n",
      "Epoch 39/100\n",
      "4500/4500 [==============================] - 0s 59us/step - loss: 0.0211 - acc: 0.0107 - val_loss: 0.0217 - val_acc: 0.0120\n",
      "Epoch 40/100\n",
      "4500/4500 [==============================] - 0s 63us/step - loss: 0.0206 - acc: 0.0120 - val_loss: 0.0213 - val_acc: 0.0100\n",
      "Epoch 41/100\n",
      "4500/4500 [==============================] - 0s 69us/step - loss: 0.0202 - acc: 0.0098 - val_loss: 0.0209 - val_acc: 0.0080\n",
      "Epoch 42/100\n",
      "4500/4500 [==============================] - 0s 66us/step - loss: 0.0198 - acc: 0.0111 - val_loss: 0.0205 - val_acc: 0.0120\n",
      "Epoch 43/100\n",
      "4500/4500 [==============================] - 0s 63us/step - loss: 0.0194 - acc: 0.0116 - val_loss: 0.0202 - val_acc: 0.0100\n",
      "Epoch 44/100\n",
      "4500/4500 [==============================] - 0s 63us/step - loss: 0.0190 - acc: 0.0102 - val_loss: 0.0198 - val_acc: 0.0160\n",
      "Epoch 45/100\n",
      "4500/4500 [==============================] - 0s 62us/step - loss: 0.0186 - acc: 0.0109 - val_loss: 0.0195 - val_acc: 0.0100\n",
      "Epoch 46/100\n",
      "4500/4500 [==============================] - 0s 62us/step - loss: 0.0183 - acc: 0.0107 - val_loss: 0.0192 - val_acc: 0.0120\n",
      "Epoch 47/100\n",
      "4500/4500 [==============================] - 0s 60us/step - loss: 0.0179 - acc: 0.0104 - val_loss: 0.0188 - val_acc: 0.0100\n",
      "Epoch 48/100\n",
      "4500/4500 [==============================] - 0s 64us/step - loss: 0.0176 - acc: 0.0102 - val_loss: 0.0185 - val_acc: 0.0120\n",
      "Epoch 49/100\n",
      "4500/4500 [==============================] - 0s 64us/step - loss: 0.0173 - acc: 0.0102 - val_loss: 0.0182 - val_acc: 0.0100\n",
      "Epoch 50/100\n",
      "4500/4500 [==============================] - 0s 61us/step - loss: 0.0170 - acc: 0.0104 - val_loss: 0.0180 - val_acc: 0.0060\n",
      "Epoch 51/100\n",
      "4500/4500 [==============================] - 0s 61us/step - loss: 0.0167 - acc: 0.0102 - val_loss: 0.0177 - val_acc: 0.0080\n",
      "Epoch 52/100\n",
      "4500/4500 [==============================] - 0s 60us/step - loss: 0.0164 - acc: 0.0113 - val_loss: 0.0174 - val_acc: 0.0120\n",
      "Epoch 53/100\n",
      "4500/4500 [==============================] - 0s 60us/step - loss: 0.0161 - acc: 0.0104 - val_loss: 0.0171 - val_acc: 0.0120\n",
      "Epoch 54/100\n",
      "4500/4500 [==============================] - 0s 60us/step - loss: 0.0158 - acc: 0.0100 - val_loss: 0.0169 - val_acc: 0.0080\n",
      "Epoch 55/100\n",
      "4500/4500 [==============================] - 0s 62us/step - loss: 0.0155 - acc: 0.0102 - val_loss: 0.0166 - val_acc: 0.0100\n",
      "Epoch 56/100\n",
      "4500/4500 [==============================] - 0s 59us/step - loss: 0.0153 - acc: 0.0104 - val_loss: 0.0164 - val_acc: 0.0080\n",
      "Epoch 57/100\n",
      "4500/4500 [==============================] - 0s 61us/step - loss: 0.0150 - acc: 0.0100 - val_loss: 0.0161 - val_acc: 0.0080\n",
      "Epoch 58/100\n",
      "4500/4500 [==============================] - 0s 62us/step - loss: 0.0148 - acc: 0.0100 - val_loss: 0.0159 - val_acc: 0.0100\n",
      "Epoch 59/100\n",
      "4500/4500 [==============================] - 0s 58us/step - loss: 0.0146 - acc: 0.0116 - val_loss: 0.0157 - val_acc: 0.0060\n",
      "Epoch 60/100\n"
     ]
    },
    {
     "name": "stdout",
     "output_type": "stream",
     "text": [
      "4500/4500 [==============================] - 0s 59us/step - loss: 0.0143 - acc: 0.0100 - val_loss: 0.0155 - val_acc: 0.0080\n",
      "Epoch 61/100\n",
      "4500/4500 [==============================] - 0s 66us/step - loss: 0.0141 - acc: 0.0102 - val_loss: 0.0153 - val_acc: 0.0100\n",
      "Epoch 62/100\n",
      "4500/4500 [==============================] - 0s 60us/step - loss: 0.0139 - acc: 0.0100 - val_loss: 0.0150 - val_acc: 0.0080\n",
      "Epoch 63/100\n",
      "4500/4500 [==============================] - 0s 59us/step - loss: 0.0137 - acc: 0.0102 - val_loss: 0.0148 - val_acc: 0.0080\n",
      "Epoch 64/100\n",
      "4500/4500 [==============================] - 0s 63us/step - loss: 0.0135 - acc: 0.0109 - val_loss: 0.0147 - val_acc: 0.0100\n",
      "Epoch 65/100\n",
      "4500/4500 [==============================] - 0s 62us/step - loss: 0.0133 - acc: 0.0109 - val_loss: 0.0145 - val_acc: 0.0100\n",
      "Epoch 66/100\n",
      "4500/4500 [==============================] - 0s 63us/step - loss: 0.0131 - acc: 0.0104 - val_loss: 0.0143 - val_acc: 0.0040\n",
      "Epoch 67/100\n",
      "4500/4500 [==============================] - 0s 60us/step - loss: 0.0129 - acc: 0.0089 - val_loss: 0.0141 - val_acc: 0.0040\n",
      "Epoch 68/100\n",
      "4500/4500 [==============================] - 0s 59us/step - loss: 0.0127 - acc: 0.0091 - val_loss: 0.0140 - val_acc: 0.0040\n",
      "Epoch 69/100\n",
      "4500/4500 [==============================] - 0s 61us/step - loss: 0.0125 - acc: 0.0096 - val_loss: 0.0138 - val_acc: 0.0100\n",
      "Epoch 70/100\n",
      "4500/4500 [==============================] - 0s 60us/step - loss: 0.0124 - acc: 0.0100 - val_loss: 0.0136 - val_acc: 0.0080\n",
      "Epoch 71/100\n",
      "4500/4500 [==============================] - 0s 61us/step - loss: 0.0122 - acc: 0.0098 - val_loss: 0.0135 - val_acc: 0.0060\n",
      "Epoch 72/100\n",
      "4500/4500 [==============================] - 0s 65us/step - loss: 0.0120 - acc: 0.0089 - val_loss: 0.0133 - val_acc: 0.0060\n",
      "Epoch 73/100\n",
      "4500/4500 [==============================] - 0s 60us/step - loss: 0.0119 - acc: 0.0089 - val_loss: 0.0132 - val_acc: 0.0060\n",
      "Epoch 74/100\n",
      "4500/4500 [==============================] - 0s 62us/step - loss: 0.0117 - acc: 0.0098 - val_loss: 0.0130 - val_acc: 0.0080\n",
      "Epoch 75/100\n",
      "4500/4500 [==============================] - 0s 62us/step - loss: 0.0116 - acc: 0.0100 - val_loss: 0.0129 - val_acc: 0.0080\n",
      "Epoch 76/100\n",
      "4500/4500 [==============================] - 0s 63us/step - loss: 0.0114 - acc: 0.0096 - val_loss: 0.0127 - val_acc: 0.0100\n",
      "Epoch 77/100\n",
      "4500/4500 [==============================] - 0s 61us/step - loss: 0.0113 - acc: 0.0096 - val_loss: 0.0126 - val_acc: 0.0100\n",
      "Epoch 78/100\n",
      "4500/4500 [==============================] - 0s 60us/step - loss: 0.0112 - acc: 0.0104 - val_loss: 0.0125 - val_acc: 0.0100\n",
      "Epoch 79/100\n",
      "4500/4500 [==============================] - 0s 62us/step - loss: 0.0110 - acc: 0.0096 - val_loss: 0.0123 - val_acc: 0.0080\n",
      "Epoch 80/100\n",
      "4500/4500 [==============================] - 0s 60us/step - loss: 0.0109 - acc: 0.0096 - val_loss: 0.0122 - val_acc: 0.0080\n",
      "Epoch 81/100\n",
      "4500/4500 [==============================] - 0s 60us/step - loss: 0.0108 - acc: 0.0109 - val_loss: 0.0121 - val_acc: 0.0100\n",
      "Epoch 82/100\n",
      "4500/4500 [==============================] - 0s 61us/step - loss: 0.0106 - acc: 0.0107 - val_loss: 0.0120 - val_acc: 0.0100\n",
      "Epoch 83/100\n",
      "4500/4500 [==============================] - 0s 63us/step - loss: 0.0105 - acc: 0.0102 - val_loss: 0.0119 - val_acc: 0.0080\n",
      "Epoch 84/100\n",
      "4500/4500 [==============================] - 0s 59us/step - loss: 0.0104 - acc: 0.0104 - val_loss: 0.0117 - val_acc: 0.0100\n",
      "Epoch 85/100\n",
      "4500/4500 [==============================] - 0s 60us/step - loss: 0.0103 - acc: 0.0102 - val_loss: 0.0116 - val_acc: 0.0120\n",
      "Epoch 86/100\n",
      "4500/4500 [==============================] - 0s 67us/step - loss: 0.0102 - acc: 0.0091 - val_loss: 0.0115 - val_acc: 0.0100\n",
      "Epoch 87/100\n",
      "4500/4500 [==============================] - 0s 61us/step - loss: 0.0100 - acc: 0.0096 - val_loss: 0.0114 - val_acc: 0.0080\n",
      "Epoch 88/100\n",
      "4500/4500 [==============================] - 0s 62us/step - loss: 0.0099 - acc: 0.0093 - val_loss: 0.0113 - val_acc: 0.0080\n",
      "Epoch 89/100\n",
      "4500/4500 [==============================] - 0s 62us/step - loss: 0.0098 - acc: 0.0113 - val_loss: 0.0112 - val_acc: 0.0080\n",
      "Epoch 90/100\n",
      "4500/4500 [==============================] - 0s 62us/step - loss: 0.0097 - acc: 0.0096 - val_loss: 0.0111 - val_acc: 0.0080\n",
      "Epoch 91/100\n",
      "4500/4500 [==============================] - 0s 60us/step - loss: 0.0096 - acc: 0.0102 - val_loss: 0.0111 - val_acc: 0.0080\n",
      "Epoch 92/100\n",
      "4500/4500 [==============================] - 0s 61us/step - loss: 0.0095 - acc: 0.0104 - val_loss: 0.0110 - val_acc: 0.0080\n",
      "Epoch 93/100\n",
      "4500/4500 [==============================] - 0s 65us/step - loss: 0.0094 - acc: 0.0098 - val_loss: 0.0109 - val_acc: 0.0100\n",
      "Epoch 94/100\n",
      "4500/4500 [==============================] - 0s 63us/step - loss: 0.0093 - acc: 0.0100 - val_loss: 0.0108 - val_acc: 0.0100\n",
      "Epoch 95/100\n",
      "4500/4500 [==============================] - 0s 62us/step - loss: 0.0092 - acc: 0.0091 - val_loss: 0.0107 - val_acc: 0.0080\n",
      "Epoch 96/100\n",
      "4500/4500 [==============================] - 0s 63us/step - loss: 0.0092 - acc: 0.0109 - val_loss: 0.0106 - val_acc: 0.0060\n",
      "Epoch 97/100\n",
      "4500/4500 [==============================] - 0s 64us/step - loss: 0.0091 - acc: 0.0104 - val_loss: 0.0105 - val_acc: 0.0100\n",
      "Epoch 98/100\n",
      "4500/4500 [==============================] - 0s 62us/step - loss: 0.0090 - acc: 0.0096 - val_loss: 0.0104 - val_acc: 0.0120\n",
      "Epoch 99/100\n",
      "4500/4500 [==============================] - 0s 63us/step - loss: 0.0089 - acc: 0.0109 - val_loss: 0.0104 - val_acc: 0.0080\n",
      "Epoch 100/100\n",
      "4500/4500 [==============================] - 0s 60us/step - loss: 0.0088 - acc: 0.0100 - val_loss: 0.0103 - val_acc: 0.0100\n"
     ]
    }
   ],
   "source": [
    "hist = model.fit(data[:4500],data[:4500],\n",
    "                epochs=100,\n",
    "                shuffle = True,\n",
    "                batch_size=100,\n",
    "                 validation_data=(data[4500:],data[4500:]))"
   ]
  },
  {
   "cell_type": "code",
   "execution_count": 16,
   "metadata": {},
   "outputs": [
    {
     "name": "stdout",
     "output_type": "stream",
     "text": [
      "(100, 100)\n"
     ]
    }
   ],
   "source": [
    "ex = encoder.predict(data[:100])\n",
    "print (ex.shape)"
   ]
  },
  {
   "cell_type": "code",
   "execution_count": 19,
   "metadata": {},
   "outputs": [
    {
     "name": "stdout",
     "output_type": "stream",
     "text": [
      "(100, 784)\n"
     ]
    }
   ],
   "source": [
    "dx = decoder.predict(ex)\n",
    "print(dx.shape)"
   ]
  },
  {
   "cell_type": "code",
   "execution_count": 27,
   "metadata": {},
   "outputs": [
    {
     "data": {
      "text/plain": [
       "<matplotlib.image.AxesImage at 0x2d37dd290b8>"
      ]
     },
     "execution_count": 27,
     "metadata": {},
     "output_type": "execute_result"
    },
    {
     "data": {
      "image/png": "[encoded data removed]",
      "text/plain": [
       "<matplotlib.figure.Figure at 0x2d37dcc7198>"
      ]
     },
     "metadata": {},
     "output_type": "display_data"
    },
    {
     "data": {
      "image/png": "[encoded data removed]",
      "text/plain": [
       "<matplotlib.figure.Figure at 0x2d35271cfd0>"
      ]
     },
     "metadata": {},
     "output_type": "display_data"
    }
   ],
   "source": [
    "n =np.random.choice(range(100))\n",
    "plt.figure(0)\n",
    "plt.imshow(data[n].reshape(28,28),cmap='gray')\n",
    "\n",
    "plt.figure(1)\n",
    "plt.imshow(dx[n].reshape(28,28),cmap='gray')"
   ]
  },
  {
   "cell_type": "code",
   "execution_count": null,
   "metadata": {},
   "outputs": [],
   "source": []
  }
 ],
 "metadata": {
  "kernelspec": {
   "display_name": "Python 3",
   "language": "python",
   "name": "python3"
  },
  "language_info": {
   "codemirror_mode": {
    "name": "ipython",
    "version": 3
   },
   "file_extension": ".py",
   "mimetype": "text/x-python",
   "name": "python",
   "nbconvert_exporter": "python",
   "pygments_lexer": "ipython3",
   "version": "3.5.4"
  }
 },
 "nbformat": 4,
 "nbformat_minor": 2
}
